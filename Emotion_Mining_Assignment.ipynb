{
  "nbformat": 4,
  "nbformat_minor": 0,
  "metadata": {
    "colab": {
      "provenance": []
    },
    "kernelspec": {
      "name": "python3",
      "display_name": "Python 3"
    },
    "language_info": {
      "name": "python"
    }
  },
  "cells": [
    {
      "cell_type": "code",
      "execution_count": 1,
      "metadata": {
        "id": "Bf4zJsjONk-v"
      },
      "outputs": [],
      "source": [
        "import pandas as pd\n",
        "import numpy as np\n",
        "import matplotlib.pyplot as plt\n",
        "import seaborn as sns\n",
        "import nltk\n",
        "from nltk.corpus import stopwords\n",
        "from nltk.stem import PorterStemmer\n",
        "import re\n",
        "import tensorflow\n",
        "from tensorflow.keras.preprocessing.sequence import pad_sequences\n",
        "from tensorflow.keras.layers import Embedding, LSTM, Dropout, Dense\n",
        "from tensorflow.keras.models import Sequential"
      ]
    },
    {
      "cell_type": "code",
      "source": [
        "from google.colab import files\n",
        "uploaded = files.upload()"
      ],
      "metadata": {
        "colab": {
          "base_uri": "https://localhost:8080/",
          "height": 91
        },
        "id": "ltai4Yu1NpQB",
        "outputId": "df94271b-d0f7-404d-c48a-45ba5fdbf106"
      },
      "execution_count": 2,
      "outputs": [
        {
          "output_type": "display_data",
          "data": {
            "text/plain": [
              "<IPython.core.display.HTML object>"
            ],
            "text/html": [
              "\n",
              "     <input type=\"file\" id=\"files-b0731757-8005-4ea6-bb1a-c1d21be4000d\" name=\"files[]\" multiple disabled\n",
              "        style=\"border:none\" />\n",
              "     <output id=\"result-b0731757-8005-4ea6-bb1a-c1d21be4000d\">\n",
              "      Upload widget is only available when the cell has been executed in the\n",
              "      current browser session. Please rerun this cell to enable.\n",
              "      </output>\n",
              "      <script>// Copyright 2017 Google LLC\n",
              "//\n",
              "// Licensed under the Apache License, Version 2.0 (the \"License\");\n",
              "// you may not use this file except in compliance with the License.\n",
              "// You may obtain a copy of the License at\n",
              "//\n",
              "//      http://www.apache.org/licenses/LICENSE-2.0\n",
              "//\n",
              "// Unless required by applicable law or agreed to in writing, software\n",
              "// distributed under the License is distributed on an \"AS IS\" BASIS,\n",
              "// WITHOUT WARRANTIES OR CONDITIONS OF ANY KIND, either express or implied.\n",
              "// See the License for the specific language governing permissions and\n",
              "// limitations under the License.\n",
              "\n",
              "/**\n",
              " * @fileoverview Helpers for google.colab Python module.\n",
              " */\n",
              "(function(scope) {\n",
              "function span(text, styleAttributes = {}) {\n",
              "  const element = document.createElement('span');\n",
              "  element.textContent = text;\n",
              "  for (const key of Object.keys(styleAttributes)) {\n",
              "    element.style[key] = styleAttributes[key];\n",
              "  }\n",
              "  return element;\n",
              "}\n",
              "\n",
              "// Max number of bytes which will be uploaded at a time.\n",
              "const MAX_PAYLOAD_SIZE = 100 * 1024;\n",
              "\n",
              "function _uploadFiles(inputId, outputId) {\n",
              "  const steps = uploadFilesStep(inputId, outputId);\n",
              "  const outputElement = document.getElementById(outputId);\n",
              "  // Cache steps on the outputElement to make it available for the next call\n",
              "  // to uploadFilesContinue from Python.\n",
              "  outputElement.steps = steps;\n",
              "\n",
              "  return _uploadFilesContinue(outputId);\n",
              "}\n",
              "\n",
              "// This is roughly an async generator (not supported in the browser yet),\n",
              "// where there are multiple asynchronous steps and the Python side is going\n",
              "// to poll for completion of each step.\n",
              "// This uses a Promise to block the python side on completion of each step,\n",
              "// then passes the result of the previous step as the input to the next step.\n",
              "function _uploadFilesContinue(outputId) {\n",
              "  const outputElement = document.getElementById(outputId);\n",
              "  const steps = outputElement.steps;\n",
              "\n",
              "  const next = steps.next(outputElement.lastPromiseValue);\n",
              "  return Promise.resolve(next.value.promise).then((value) => {\n",
              "    // Cache the last promise value to make it available to the next\n",
              "    // step of the generator.\n",
              "    outputElement.lastPromiseValue = value;\n",
              "    return next.value.response;\n",
              "  });\n",
              "}\n",
              "\n",
              "/**\n",
              " * Generator function which is called between each async step of the upload\n",
              " * process.\n",
              " * @param {string} inputId Element ID of the input file picker element.\n",
              " * @param {string} outputId Element ID of the output display.\n",
              " * @return {!Iterable<!Object>} Iterable of next steps.\n",
              " */\n",
              "function* uploadFilesStep(inputId, outputId) {\n",
              "  const inputElement = document.getElementById(inputId);\n",
              "  inputElement.disabled = false;\n",
              "\n",
              "  const outputElement = document.getElementById(outputId);\n",
              "  outputElement.innerHTML = '';\n",
              "\n",
              "  const pickedPromise = new Promise((resolve) => {\n",
              "    inputElement.addEventListener('change', (e) => {\n",
              "      resolve(e.target.files);\n",
              "    });\n",
              "  });\n",
              "\n",
              "  const cancel = document.createElement('button');\n",
              "  inputElement.parentElement.appendChild(cancel);\n",
              "  cancel.textContent = 'Cancel upload';\n",
              "  const cancelPromise = new Promise((resolve) => {\n",
              "    cancel.onclick = () => {\n",
              "      resolve(null);\n",
              "    };\n",
              "  });\n",
              "\n",
              "  // Wait for the user to pick the files.\n",
              "  const files = yield {\n",
              "    promise: Promise.race([pickedPromise, cancelPromise]),\n",
              "    response: {\n",
              "      action: 'starting',\n",
              "    }\n",
              "  };\n",
              "\n",
              "  cancel.remove();\n",
              "\n",
              "  // Disable the input element since further picks are not allowed.\n",
              "  inputElement.disabled = true;\n",
              "\n",
              "  if (!files) {\n",
              "    return {\n",
              "      response: {\n",
              "        action: 'complete',\n",
              "      }\n",
              "    };\n",
              "  }\n",
              "\n",
              "  for (const file of files) {\n",
              "    const li = document.createElement('li');\n",
              "    li.append(span(file.name, {fontWeight: 'bold'}));\n",
              "    li.append(span(\n",
              "        `(${file.type || 'n/a'}) - ${file.size} bytes, ` +\n",
              "        `last modified: ${\n",
              "            file.lastModifiedDate ? file.lastModifiedDate.toLocaleDateString() :\n",
              "                                    'n/a'} - `));\n",
              "    const percent = span('0% done');\n",
              "    li.appendChild(percent);\n",
              "\n",
              "    outputElement.appendChild(li);\n",
              "\n",
              "    const fileDataPromise = new Promise((resolve) => {\n",
              "      const reader = new FileReader();\n",
              "      reader.onload = (e) => {\n",
              "        resolve(e.target.result);\n",
              "      };\n",
              "      reader.readAsArrayBuffer(file);\n",
              "    });\n",
              "    // Wait for the data to be ready.\n",
              "    let fileData = yield {\n",
              "      promise: fileDataPromise,\n",
              "      response: {\n",
              "        action: 'continue',\n",
              "      }\n",
              "    };\n",
              "\n",
              "    // Use a chunked sending to avoid message size limits. See b/62115660.\n",
              "    let position = 0;\n",
              "    do {\n",
              "      const length = Math.min(fileData.byteLength - position, MAX_PAYLOAD_SIZE);\n",
              "      const chunk = new Uint8Array(fileData, position, length);\n",
              "      position += length;\n",
              "\n",
              "      const base64 = btoa(String.fromCharCode.apply(null, chunk));\n",
              "      yield {\n",
              "        response: {\n",
              "          action: 'append',\n",
              "          file: file.name,\n",
              "          data: base64,\n",
              "        },\n",
              "      };\n",
              "\n",
              "      let percentDone = fileData.byteLength === 0 ?\n",
              "          100 :\n",
              "          Math.round((position / fileData.byteLength) * 100);\n",
              "      percent.textContent = `${percentDone}% done`;\n",
              "\n",
              "    } while (position < fileData.byteLength);\n",
              "  }\n",
              "\n",
              "  // All done.\n",
              "  yield {\n",
              "    response: {\n",
              "      action: 'complete',\n",
              "    }\n",
              "  };\n",
              "}\n",
              "\n",
              "scope.google = scope.google || {};\n",
              "scope.google.colab = scope.google.colab || {};\n",
              "scope.google.colab._files = {\n",
              "  _uploadFiles,\n",
              "  _uploadFilesContinue,\n",
              "};\n",
              "})(self);\n",
              "</script> "
            ]
          },
          "metadata": {}
        },
        {
          "output_type": "stream",
          "name": "stdout",
          "text": [
            "Saving review-details.xlsx to review-details.xlsx\n"
          ]
        }
      ]
    },
    {
      "cell_type": "code",
      "source": [
        "df = pd.read_excel('review-details.xlsx')"
      ],
      "metadata": {
        "id": "TOK_f9lwOD6x"
      },
      "execution_count": 3,
      "outputs": []
    },
    {
      "cell_type": "code",
      "source": [
        "df.head()"
      ],
      "metadata": {
        "colab": {
          "base_uri": "https://localhost:8080/",
          "height": 508
        },
        "id": "qj5MHg_XOG3G",
        "outputId": "8a35bce5-4800-4d69-b75b-13e66197a54b"
      },
      "execution_count": 4,
      "outputs": [
        {
          "output_type": "execute_result",
          "data": {
            "text/plain": [
              "  report_date online_store            upc retailer_product_code  \\\n",
              "0  2019-01-02  FRESHAMAZON  8718114216478            B0142CI6FC   \n",
              "1  2019-01-03  FRESHAMAZON  5000184201199            B014DFNNRY   \n",
              "2  2019-01-03  FRESHAMAZON  5000184201199            B014DFNNRY   \n",
              "3  2019-01-03  FRESHAMAZON  8712566479726            B014DFKELC   \n",
              "4  2019-01-03  FRESHAMAZON  8717163536476            B014G37I7E   \n",
              "\n",
              "           brand       category sub_category  \\\n",
              "0  Dove Men+Care  Personal Care         Deos   \n",
              "1        Marmite          Foods      Savoury   \n",
              "2        Marmite          Foods      Savoury   \n",
              "3          Knorr          Foods      Savoury   \n",
              "4            Cif       Homecare          HHC   \n",
              "\n",
              "                                 product_description review_date  Unnamed: 9  \\\n",
              "0  Dove Men+Care Extra Fresh Anti-perspirant Deod...  2019-01-01           5   \n",
              "1                 Marmite  Spread Yeast Extract 500g  2019-01-02           5   \n",
              "2                 Marmite  Spread Yeast Extract 500g  2019-01-02           4   \n",
              "3                      Knorr  Beef Stock Pot 8 x 28g  2019-01-02           5   \n",
              "4                   Cif Citrus Bathroom Mousse 500ml  2019-01-02           5   \n",
              "\n",
              "   ...                                         dimension2  \\\n",
              "0  ...                     Male Anti-Perspirant Deodorant   \n",
              "1  ...                                 COTC Yeast Extract   \n",
              "2  ...                                 COTC Yeast Extract   \n",
              "3  ...  Beef Stock/Pots/Cubes/Extract/Liquid/Concentrated   \n",
              "4  ...                                    Bathroom Mousse   \n",
              "\n",
              "                            dimension3  dimension4 dimension5 dimension6  \\\n",
              "0  COTC Male Anti-Perspirant Deodorant         NaN        NaN        NaN   \n",
              "1                   COTC Yeast Extract         NaN        NaN        NaN   \n",
              "2                   COTC Yeast Extract         NaN        NaN        NaN   \n",
              "3                           Stock Pots         NaN        NaN        NaN   \n",
              "4                      Bathroom Mousse         NaN        NaN        NaN   \n",
              "\n",
              "                            dimension7        dimension8 verified_purchase  \\\n",
              "0  COTC Male Anti-Perspirant Deodorant  Core of the Core              True   \n",
              "1                   COTC Yeast Extract  Core of the Core              True   \n",
              "2                   COTC Yeast Extract  Core of the Core              True   \n",
              "3                           Stock Pots  Core of the Core              True   \n",
              "4                                  NaN  Core of the Core             False   \n",
              "\n",
              "  helpful_review_count                        review_hash_id  \n",
              "0                    0  3f129b02-ea76-0323-bd59-235d97a4f83f  \n",
              "1                    0  d7f3b9aa-e8b3-626d-683b-374e201c8315  \n",
              "2                    0  e58a523d-0155-a366-f107-7ac6817ac3b7  \n",
              "3                    0  aaa9bb87-4f99-bb89-65cb-3b400ebb45c0  \n",
              "4                    0  48c71b34-d7fe-5e90-51dd-239e153fb0ae  \n",
              "\n",
              "[5 rows x 32 columns]"
            ],
            "text/html": [
              "\n",
              "  <div id=\"df-4ba67da3-ae1f-49b8-bd35-984a19138282\">\n",
              "    <div class=\"colab-df-container\">\n",
              "      <div>\n",
              "<style scoped>\n",
              "    .dataframe tbody tr th:only-of-type {\n",
              "        vertical-align: middle;\n",
              "    }\n",
              "\n",
              "    .dataframe tbody tr th {\n",
              "        vertical-align: top;\n",
              "    }\n",
              "\n",
              "    .dataframe thead th {\n",
              "        text-align: right;\n",
              "    }\n",
              "</style>\n",
              "<table border=\"1\" class=\"dataframe\">\n",
              "  <thead>\n",
              "    <tr style=\"text-align: right;\">\n",
              "      <th></th>\n",
              "      <th>report_date</th>\n",
              "      <th>online_store</th>\n",
              "      <th>upc</th>\n",
              "      <th>retailer_product_code</th>\n",
              "      <th>brand</th>\n",
              "      <th>category</th>\n",
              "      <th>sub_category</th>\n",
              "      <th>product_description</th>\n",
              "      <th>review_date</th>\n",
              "      <th>Unnamed: 9</th>\n",
              "      <th>...</th>\n",
              "      <th>dimension2</th>\n",
              "      <th>dimension3</th>\n",
              "      <th>dimension4</th>\n",
              "      <th>dimension5</th>\n",
              "      <th>dimension6</th>\n",
              "      <th>dimension7</th>\n",
              "      <th>dimension8</th>\n",
              "      <th>verified_purchase</th>\n",
              "      <th>helpful_review_count</th>\n",
              "      <th>review_hash_id</th>\n",
              "    </tr>\n",
              "  </thead>\n",
              "  <tbody>\n",
              "    <tr>\n",
              "      <th>0</th>\n",
              "      <td>2019-01-02</td>\n",
              "      <td>FRESHAMAZON</td>\n",
              "      <td>8718114216478</td>\n",
              "      <td>B0142CI6FC</td>\n",
              "      <td>Dove Men+Care</td>\n",
              "      <td>Personal Care</td>\n",
              "      <td>Deos</td>\n",
              "      <td>Dove Men+Care Extra Fresh Anti-perspirant Deod...</td>\n",
              "      <td>2019-01-01</td>\n",
              "      <td>5</td>\n",
              "      <td>...</td>\n",
              "      <td>Male Anti-Perspirant Deodorant</td>\n",
              "      <td>COTC Male Anti-Perspirant Deodorant</td>\n",
              "      <td>NaN</td>\n",
              "      <td>NaN</td>\n",
              "      <td>NaN</td>\n",
              "      <td>COTC Male Anti-Perspirant Deodorant</td>\n",
              "      <td>Core of the Core</td>\n",
              "      <td>True</td>\n",
              "      <td>0</td>\n",
              "      <td>3f129b02-ea76-0323-bd59-235d97a4f83f</td>\n",
              "    </tr>\n",
              "    <tr>\n",
              "      <th>1</th>\n",
              "      <td>2019-01-03</td>\n",
              "      <td>FRESHAMAZON</td>\n",
              "      <td>5000184201199</td>\n",
              "      <td>B014DFNNRY</td>\n",
              "      <td>Marmite</td>\n",
              "      <td>Foods</td>\n",
              "      <td>Savoury</td>\n",
              "      <td>Marmite  Spread Yeast Extract 500g</td>\n",
              "      <td>2019-01-02</td>\n",
              "      <td>5</td>\n",
              "      <td>...</td>\n",
              "      <td>COTC Yeast Extract</td>\n",
              "      <td>COTC Yeast Extract</td>\n",
              "      <td>NaN</td>\n",
              "      <td>NaN</td>\n",
              "      <td>NaN</td>\n",
              "      <td>COTC Yeast Extract</td>\n",
              "      <td>Core of the Core</td>\n",
              "      <td>True</td>\n",
              "      <td>0</td>\n",
              "      <td>d7f3b9aa-e8b3-626d-683b-374e201c8315</td>\n",
              "    </tr>\n",
              "    <tr>\n",
              "      <th>2</th>\n",
              "      <td>2019-01-03</td>\n",
              "      <td>FRESHAMAZON</td>\n",
              "      <td>5000184201199</td>\n",
              "      <td>B014DFNNRY</td>\n",
              "      <td>Marmite</td>\n",
              "      <td>Foods</td>\n",
              "      <td>Savoury</td>\n",
              "      <td>Marmite  Spread Yeast Extract 500g</td>\n",
              "      <td>2019-01-02</td>\n",
              "      <td>4</td>\n",
              "      <td>...</td>\n",
              "      <td>COTC Yeast Extract</td>\n",
              "      <td>COTC Yeast Extract</td>\n",
              "      <td>NaN</td>\n",
              "      <td>NaN</td>\n",
              "      <td>NaN</td>\n",
              "      <td>COTC Yeast Extract</td>\n",
              "      <td>Core of the Core</td>\n",
              "      <td>True</td>\n",
              "      <td>0</td>\n",
              "      <td>e58a523d-0155-a366-f107-7ac6817ac3b7</td>\n",
              "    </tr>\n",
              "    <tr>\n",
              "      <th>3</th>\n",
              "      <td>2019-01-03</td>\n",
              "      <td>FRESHAMAZON</td>\n",
              "      <td>8712566479726</td>\n",
              "      <td>B014DFKELC</td>\n",
              "      <td>Knorr</td>\n",
              "      <td>Foods</td>\n",
              "      <td>Savoury</td>\n",
              "      <td>Knorr  Beef Stock Pot 8 x 28g</td>\n",
              "      <td>2019-01-02</td>\n",
              "      <td>5</td>\n",
              "      <td>...</td>\n",
              "      <td>Beef Stock/Pots/Cubes/Extract/Liquid/Concentrated</td>\n",
              "      <td>Stock Pots</td>\n",
              "      <td>NaN</td>\n",
              "      <td>NaN</td>\n",
              "      <td>NaN</td>\n",
              "      <td>Stock Pots</td>\n",
              "      <td>Core of the Core</td>\n",
              "      <td>True</td>\n",
              "      <td>0</td>\n",
              "      <td>aaa9bb87-4f99-bb89-65cb-3b400ebb45c0</td>\n",
              "    </tr>\n",
              "    <tr>\n",
              "      <th>4</th>\n",
              "      <td>2019-01-03</td>\n",
              "      <td>FRESHAMAZON</td>\n",
              "      <td>8717163536476</td>\n",
              "      <td>B014G37I7E</td>\n",
              "      <td>Cif</td>\n",
              "      <td>Homecare</td>\n",
              "      <td>HHC</td>\n",
              "      <td>Cif Citrus Bathroom Mousse 500ml</td>\n",
              "      <td>2019-01-02</td>\n",
              "      <td>5</td>\n",
              "      <td>...</td>\n",
              "      <td>Bathroom Mousse</td>\n",
              "      <td>Bathroom Mousse</td>\n",
              "      <td>NaN</td>\n",
              "      <td>NaN</td>\n",
              "      <td>NaN</td>\n",
              "      <td>NaN</td>\n",
              "      <td>Core of the Core</td>\n",
              "      <td>False</td>\n",
              "      <td>0</td>\n",
              "      <td>48c71b34-d7fe-5e90-51dd-239e153fb0ae</td>\n",
              "    </tr>\n",
              "  </tbody>\n",
              "</table>\n",
              "<p>5 rows × 32 columns</p>\n",
              "</div>\n",
              "      <button class=\"colab-df-convert\" onclick=\"convertToInteractive('df-4ba67da3-ae1f-49b8-bd35-984a19138282')\"\n",
              "              title=\"Convert this dataframe to an interactive table.\"\n",
              "              style=\"display:none;\">\n",
              "        \n",
              "  <svg xmlns=\"http://www.w3.org/2000/svg\" height=\"24px\"viewBox=\"0 0 24 24\"\n",
              "       width=\"24px\">\n",
              "    <path d=\"M0 0h24v24H0V0z\" fill=\"none\"/>\n",
              "    <path d=\"M18.56 5.44l.94 2.06.94-2.06 2.06-.94-2.06-.94-.94-2.06-.94 2.06-2.06.94zm-11 1L8.5 8.5l.94-2.06 2.06-.94-2.06-.94L8.5 2.5l-.94 2.06-2.06.94zm10 10l.94 2.06.94-2.06 2.06-.94-2.06-.94-.94-2.06-.94 2.06-2.06.94z\"/><path d=\"M17.41 7.96l-1.37-1.37c-.4-.4-.92-.59-1.43-.59-.52 0-1.04.2-1.43.59L10.3 9.45l-7.72 7.72c-.78.78-.78 2.05 0 2.83L4 21.41c.39.39.9.59 1.41.59.51 0 1.02-.2 1.41-.59l7.78-7.78 2.81-2.81c.8-.78.8-2.07 0-2.86zM5.41 20L4 18.59l7.72-7.72 1.47 1.35L5.41 20z\"/>\n",
              "  </svg>\n",
              "      </button>\n",
              "      \n",
              "  <style>\n",
              "    .colab-df-container {\n",
              "      display:flex;\n",
              "      flex-wrap:wrap;\n",
              "      gap: 12px;\n",
              "    }\n",
              "\n",
              "    .colab-df-convert {\n",
              "      background-color: #E8F0FE;\n",
              "      border: none;\n",
              "      border-radius: 50%;\n",
              "      cursor: pointer;\n",
              "      display: none;\n",
              "      fill: #1967D2;\n",
              "      height: 32px;\n",
              "      padding: 0 0 0 0;\n",
              "      width: 32px;\n",
              "    }\n",
              "\n",
              "    .colab-df-convert:hover {\n",
              "      background-color: #E2EBFA;\n",
              "      box-shadow: 0px 1px 2px rgba(60, 64, 67, 0.3), 0px 1px 3px 1px rgba(60, 64, 67, 0.15);\n",
              "      fill: #174EA6;\n",
              "    }\n",
              "\n",
              "    [theme=dark] .colab-df-convert {\n",
              "      background-color: #3B4455;\n",
              "      fill: #D2E3FC;\n",
              "    }\n",
              "\n",
              "    [theme=dark] .colab-df-convert:hover {\n",
              "      background-color: #434B5C;\n",
              "      box-shadow: 0px 1px 3px 1px rgba(0, 0, 0, 0.15);\n",
              "      filter: drop-shadow(0px 1px 2px rgba(0, 0, 0, 0.3));\n",
              "      fill: #FFFFFF;\n",
              "    }\n",
              "  </style>\n",
              "\n",
              "      <script>\n",
              "        const buttonEl =\n",
              "          document.querySelector('#df-4ba67da3-ae1f-49b8-bd35-984a19138282 button.colab-df-convert');\n",
              "        buttonEl.style.display =\n",
              "          google.colab.kernel.accessAllowed ? 'block' : 'none';\n",
              "\n",
              "        async function convertToInteractive(key) {\n",
              "          const element = document.querySelector('#df-4ba67da3-ae1f-49b8-bd35-984a19138282');\n",
              "          const dataTable =\n",
              "            await google.colab.kernel.invokeFunction('convertToInteractive',\n",
              "                                                     [key], {});\n",
              "          if (!dataTable) return;\n",
              "\n",
              "          const docLinkHtml = 'Like what you see? Visit the ' +\n",
              "            '<a target=\"_blank\" href=https://colab.research.google.com/notebooks/data_table.ipynb>data table notebook</a>'\n",
              "            + ' to learn more about interactive tables.';\n",
              "          element.innerHTML = '';\n",
              "          dataTable['output_type'] = 'display_data';\n",
              "          await google.colab.output.renderOutput(dataTable, element);\n",
              "          const docLink = document.createElement('div');\n",
              "          docLink.innerHTML = docLinkHtml;\n",
              "          element.appendChild(docLink);\n",
              "        }\n",
              "      </script>\n",
              "    </div>\n",
              "  </div>\n",
              "  "
            ]
          },
          "metadata": {},
          "execution_count": 4
        }
      ]
    },
    {
      "cell_type": "markdown",
      "source": [
        "## EDA and preprocessing"
      ],
      "metadata": {
        "id": "AWGYSU_pOVja"
      }
    },
    {
      "cell_type": "code",
      "source": [
        "df1 = df.rename({'Unnamed: 9': 'review_rating'}, axis=1)"
      ],
      "metadata": {
        "id": "aRkaifq7OHHH"
      },
      "execution_count": 5,
      "outputs": []
    },
    {
      "cell_type": "code",
      "source": [
        "df1.dropna(axis = 1, how ='any').head()"
      ],
      "metadata": {
        "colab": {
          "base_uri": "https://localhost:8080/",
          "height": 473
        },
        "id": "9LFW5uk5OJnJ",
        "outputId": "ca25f592-de62-4a91-883d-73413188668c"
      },
      "execution_count": 6,
      "outputs": [
        {
          "output_type": "execute_result",
          "data": {
            "text/plain": [
              "  report_date online_store            upc retailer_product_code  \\\n",
              "0  2019-01-02  FRESHAMAZON  8718114216478            B0142CI6FC   \n",
              "1  2019-01-03  FRESHAMAZON  5000184201199            B014DFNNRY   \n",
              "2  2019-01-03  FRESHAMAZON  5000184201199            B014DFNNRY   \n",
              "3  2019-01-03  FRESHAMAZON  8712566479726            B014DFKELC   \n",
              "4  2019-01-03  FRESHAMAZON  8717163536476            B014G37I7E   \n",
              "\n",
              "           brand       category sub_category  \\\n",
              "0  Dove Men+Care  Personal Care         Deos   \n",
              "1        Marmite          Foods      Savoury   \n",
              "2        Marmite          Foods      Savoury   \n",
              "3          Knorr          Foods      Savoury   \n",
              "4            Cif       Homecare          HHC   \n",
              "\n",
              "                                 product_description review_date  \\\n",
              "0  Dove Men+Care Extra Fresh Anti-perspirant Deod...  2019-01-01   \n",
              "1                 Marmite  Spread Yeast Extract 500g  2019-01-02   \n",
              "2                 Marmite  Spread Yeast Extract 500g  2019-01-02   \n",
              "3                      Knorr  Beef Stock Pot 8 x 28g  2019-01-02   \n",
              "4                   Cif Citrus Bathroom Mousse 500ml  2019-01-02   \n",
              "\n",
              "   review_rating  ...     manufacturer  market review_type parent_review  \\\n",
              "0              5  ...  Unilever Global      UK     Organic         Child   \n",
              "1              5  ...  Unilever Global      UK     Organic         Child   \n",
              "2              4  ...  Unilever Global      UK     Organic         Child   \n",
              "3              5  ...  Unilever Global      UK     Organic        Parent   \n",
              "4              5  ...  Unilever Global      UK     Organic        Parent   \n",
              "\n",
              "  dimension1                                         dimension2  \\\n",
              "0       Deos                     Male Anti-Perspirant Deodorant   \n",
              "1    Savoury                                 COTC Yeast Extract   \n",
              "2    Savoury                                 COTC Yeast Extract   \n",
              "3    Savoury  Beef Stock/Pots/Cubes/Extract/Liquid/Concentrated   \n",
              "4        HHC                                    Bathroom Mousse   \n",
              "\n",
              "         dimension8 verified_purchase helpful_review_count  \\\n",
              "0  Core of the Core              True                    0   \n",
              "1  Core of the Core              True                    0   \n",
              "2  Core of the Core              True                    0   \n",
              "3  Core of the Core              True                    0   \n",
              "4  Core of the Core             False                    0   \n",
              "\n",
              "                         review_hash_id  \n",
              "0  3f129b02-ea76-0323-bd59-235d97a4f83f  \n",
              "1  d7f3b9aa-e8b3-626d-683b-374e201c8315  \n",
              "2  e58a523d-0155-a366-f107-7ac6817ac3b7  \n",
              "3  aaa9bb87-4f99-bb89-65cb-3b400ebb45c0  \n",
              "4  48c71b34-d7fe-5e90-51dd-239e153fb0ae  \n",
              "\n",
              "[5 rows x 22 columns]"
            ],
            "text/html": [
              "\n",
              "  <div id=\"df-fee35e22-29c9-411b-a437-d6d680360e25\">\n",
              "    <div class=\"colab-df-container\">\n",
              "      <div>\n",
              "<style scoped>\n",
              "    .dataframe tbody tr th:only-of-type {\n",
              "        vertical-align: middle;\n",
              "    }\n",
              "\n",
              "    .dataframe tbody tr th {\n",
              "        vertical-align: top;\n",
              "    }\n",
              "\n",
              "    .dataframe thead th {\n",
              "        text-align: right;\n",
              "    }\n",
              "</style>\n",
              "<table border=\"1\" class=\"dataframe\">\n",
              "  <thead>\n",
              "    <tr style=\"text-align: right;\">\n",
              "      <th></th>\n",
              "      <th>report_date</th>\n",
              "      <th>online_store</th>\n",
              "      <th>upc</th>\n",
              "      <th>retailer_product_code</th>\n",
              "      <th>brand</th>\n",
              "      <th>category</th>\n",
              "      <th>sub_category</th>\n",
              "      <th>product_description</th>\n",
              "      <th>review_date</th>\n",
              "      <th>review_rating</th>\n",
              "      <th>...</th>\n",
              "      <th>manufacturer</th>\n",
              "      <th>market</th>\n",
              "      <th>review_type</th>\n",
              "      <th>parent_review</th>\n",
              "      <th>dimension1</th>\n",
              "      <th>dimension2</th>\n",
              "      <th>dimension8</th>\n",
              "      <th>verified_purchase</th>\n",
              "      <th>helpful_review_count</th>\n",
              "      <th>review_hash_id</th>\n",
              "    </tr>\n",
              "  </thead>\n",
              "  <tbody>\n",
              "    <tr>\n",
              "      <th>0</th>\n",
              "      <td>2019-01-02</td>\n",
              "      <td>FRESHAMAZON</td>\n",
              "      <td>8718114216478</td>\n",
              "      <td>B0142CI6FC</td>\n",
              "      <td>Dove Men+Care</td>\n",
              "      <td>Personal Care</td>\n",
              "      <td>Deos</td>\n",
              "      <td>Dove Men+Care Extra Fresh Anti-perspirant Deod...</td>\n",
              "      <td>2019-01-01</td>\n",
              "      <td>5</td>\n",
              "      <td>...</td>\n",
              "      <td>Unilever Global</td>\n",
              "      <td>UK</td>\n",
              "      <td>Organic</td>\n",
              "      <td>Child</td>\n",
              "      <td>Deos</td>\n",
              "      <td>Male Anti-Perspirant Deodorant</td>\n",
              "      <td>Core of the Core</td>\n",
              "      <td>True</td>\n",
              "      <td>0</td>\n",
              "      <td>3f129b02-ea76-0323-bd59-235d97a4f83f</td>\n",
              "    </tr>\n",
              "    <tr>\n",
              "      <th>1</th>\n",
              "      <td>2019-01-03</td>\n",
              "      <td>FRESHAMAZON</td>\n",
              "      <td>5000184201199</td>\n",
              "      <td>B014DFNNRY</td>\n",
              "      <td>Marmite</td>\n",
              "      <td>Foods</td>\n",
              "      <td>Savoury</td>\n",
              "      <td>Marmite  Spread Yeast Extract 500g</td>\n",
              "      <td>2019-01-02</td>\n",
              "      <td>5</td>\n",
              "      <td>...</td>\n",
              "      <td>Unilever Global</td>\n",
              "      <td>UK</td>\n",
              "      <td>Organic</td>\n",
              "      <td>Child</td>\n",
              "      <td>Savoury</td>\n",
              "      <td>COTC Yeast Extract</td>\n",
              "      <td>Core of the Core</td>\n",
              "      <td>True</td>\n",
              "      <td>0</td>\n",
              "      <td>d7f3b9aa-e8b3-626d-683b-374e201c8315</td>\n",
              "    </tr>\n",
              "    <tr>\n",
              "      <th>2</th>\n",
              "      <td>2019-01-03</td>\n",
              "      <td>FRESHAMAZON</td>\n",
              "      <td>5000184201199</td>\n",
              "      <td>B014DFNNRY</td>\n",
              "      <td>Marmite</td>\n",
              "      <td>Foods</td>\n",
              "      <td>Savoury</td>\n",
              "      <td>Marmite  Spread Yeast Extract 500g</td>\n",
              "      <td>2019-01-02</td>\n",
              "      <td>4</td>\n",
              "      <td>...</td>\n",
              "      <td>Unilever Global</td>\n",
              "      <td>UK</td>\n",
              "      <td>Organic</td>\n",
              "      <td>Child</td>\n",
              "      <td>Savoury</td>\n",
              "      <td>COTC Yeast Extract</td>\n",
              "      <td>Core of the Core</td>\n",
              "      <td>True</td>\n",
              "      <td>0</td>\n",
              "      <td>e58a523d-0155-a366-f107-7ac6817ac3b7</td>\n",
              "    </tr>\n",
              "    <tr>\n",
              "      <th>3</th>\n",
              "      <td>2019-01-03</td>\n",
              "      <td>FRESHAMAZON</td>\n",
              "      <td>8712566479726</td>\n",
              "      <td>B014DFKELC</td>\n",
              "      <td>Knorr</td>\n",
              "      <td>Foods</td>\n",
              "      <td>Savoury</td>\n",
              "      <td>Knorr  Beef Stock Pot 8 x 28g</td>\n",
              "      <td>2019-01-02</td>\n",
              "      <td>5</td>\n",
              "      <td>...</td>\n",
              "      <td>Unilever Global</td>\n",
              "      <td>UK</td>\n",
              "      <td>Organic</td>\n",
              "      <td>Parent</td>\n",
              "      <td>Savoury</td>\n",
              "      <td>Beef Stock/Pots/Cubes/Extract/Liquid/Concentrated</td>\n",
              "      <td>Core of the Core</td>\n",
              "      <td>True</td>\n",
              "      <td>0</td>\n",
              "      <td>aaa9bb87-4f99-bb89-65cb-3b400ebb45c0</td>\n",
              "    </tr>\n",
              "    <tr>\n",
              "      <th>4</th>\n",
              "      <td>2019-01-03</td>\n",
              "      <td>FRESHAMAZON</td>\n",
              "      <td>8717163536476</td>\n",
              "      <td>B014G37I7E</td>\n",
              "      <td>Cif</td>\n",
              "      <td>Homecare</td>\n",
              "      <td>HHC</td>\n",
              "      <td>Cif Citrus Bathroom Mousse 500ml</td>\n",
              "      <td>2019-01-02</td>\n",
              "      <td>5</td>\n",
              "      <td>...</td>\n",
              "      <td>Unilever Global</td>\n",
              "      <td>UK</td>\n",
              "      <td>Organic</td>\n",
              "      <td>Parent</td>\n",
              "      <td>HHC</td>\n",
              "      <td>Bathroom Mousse</td>\n",
              "      <td>Core of the Core</td>\n",
              "      <td>False</td>\n",
              "      <td>0</td>\n",
              "      <td>48c71b34-d7fe-5e90-51dd-239e153fb0ae</td>\n",
              "    </tr>\n",
              "  </tbody>\n",
              "</table>\n",
              "<p>5 rows × 22 columns</p>\n",
              "</div>\n",
              "      <button class=\"colab-df-convert\" onclick=\"convertToInteractive('df-fee35e22-29c9-411b-a437-d6d680360e25')\"\n",
              "              title=\"Convert this dataframe to an interactive table.\"\n",
              "              style=\"display:none;\">\n",
              "        \n",
              "  <svg xmlns=\"http://www.w3.org/2000/svg\" height=\"24px\"viewBox=\"0 0 24 24\"\n",
              "       width=\"24px\">\n",
              "    <path d=\"M0 0h24v24H0V0z\" fill=\"none\"/>\n",
              "    <path d=\"M18.56 5.44l.94 2.06.94-2.06 2.06-.94-2.06-.94-.94-2.06-.94 2.06-2.06.94zm-11 1L8.5 8.5l.94-2.06 2.06-.94-2.06-.94L8.5 2.5l-.94 2.06-2.06.94zm10 10l.94 2.06.94-2.06 2.06-.94-2.06-.94-.94-2.06-.94 2.06-2.06.94z\"/><path d=\"M17.41 7.96l-1.37-1.37c-.4-.4-.92-.59-1.43-.59-.52 0-1.04.2-1.43.59L10.3 9.45l-7.72 7.72c-.78.78-.78 2.05 0 2.83L4 21.41c.39.39.9.59 1.41.59.51 0 1.02-.2 1.41-.59l7.78-7.78 2.81-2.81c.8-.78.8-2.07 0-2.86zM5.41 20L4 18.59l7.72-7.72 1.47 1.35L5.41 20z\"/>\n",
              "  </svg>\n",
              "      </button>\n",
              "      \n",
              "  <style>\n",
              "    .colab-df-container {\n",
              "      display:flex;\n",
              "      flex-wrap:wrap;\n",
              "      gap: 12px;\n",
              "    }\n",
              "\n",
              "    .colab-df-convert {\n",
              "      background-color: #E8F0FE;\n",
              "      border: none;\n",
              "      border-radius: 50%;\n",
              "      cursor: pointer;\n",
              "      display: none;\n",
              "      fill: #1967D2;\n",
              "      height: 32px;\n",
              "      padding: 0 0 0 0;\n",
              "      width: 32px;\n",
              "    }\n",
              "\n",
              "    .colab-df-convert:hover {\n",
              "      background-color: #E2EBFA;\n",
              "      box-shadow: 0px 1px 2px rgba(60, 64, 67, 0.3), 0px 1px 3px 1px rgba(60, 64, 67, 0.15);\n",
              "      fill: #174EA6;\n",
              "    }\n",
              "\n",
              "    [theme=dark] .colab-df-convert {\n",
              "      background-color: #3B4455;\n",
              "      fill: #D2E3FC;\n",
              "    }\n",
              "\n",
              "    [theme=dark] .colab-df-convert:hover {\n",
              "      background-color: #434B5C;\n",
              "      box-shadow: 0px 1px 3px 1px rgba(0, 0, 0, 0.15);\n",
              "      filter: drop-shadow(0px 1px 2px rgba(0, 0, 0, 0.3));\n",
              "      fill: #FFFFFF;\n",
              "    }\n",
              "  </style>\n",
              "\n",
              "      <script>\n",
              "        const buttonEl =\n",
              "          document.querySelector('#df-fee35e22-29c9-411b-a437-d6d680360e25 button.colab-df-convert');\n",
              "        buttonEl.style.display =\n",
              "          google.colab.kernel.accessAllowed ? 'block' : 'none';\n",
              "\n",
              "        async function convertToInteractive(key) {\n",
              "          const element = document.querySelector('#df-fee35e22-29c9-411b-a437-d6d680360e25');\n",
              "          const dataTable =\n",
              "            await google.colab.kernel.invokeFunction('convertToInteractive',\n",
              "                                                     [key], {});\n",
              "          if (!dataTable) return;\n",
              "\n",
              "          const docLinkHtml = 'Like what you see? Visit the ' +\n",
              "            '<a target=\"_blank\" href=https://colab.research.google.com/notebooks/data_table.ipynb>data table notebook</a>'\n",
              "            + ' to learn more about interactive tables.';\n",
              "          element.innerHTML = '';\n",
              "          dataTable['output_type'] = 'display_data';\n",
              "          await google.colab.output.renderOutput(dataTable, element);\n",
              "          const docLink = document.createElement('div');\n",
              "          docLink.innerHTML = docLinkHtml;\n",
              "          element.appendChild(docLink);\n",
              "        }\n",
              "      </script>\n",
              "    </div>\n",
              "  </div>\n",
              "  "
            ]
          },
          "metadata": {},
          "execution_count": 6
        }
      ]
    },
    {
      "cell_type": "code",
      "source": [
        "sns.countplot(x='category', data=df, palette='hls')"
      ],
      "metadata": {
        "colab": {
          "base_uri": "https://localhost:8080/",
          "height": 296
        },
        "id": "BCJ7uieGOMKN",
        "outputId": "fae6d992-8c66-4a97-8f75-5e9c0fc61536"
      },
      "execution_count": 7,
      "outputs": [
        {
          "output_type": "execute_result",
          "data": {
            "text/plain": [
              "<matplotlib.axes._subplots.AxesSubplot at 0x7efc8d05d820>"
            ]
          },
          "metadata": {},
          "execution_count": 7
        },
        {
          "output_type": "display_data",
          "data": {
            "text/plain": [
              "<Figure size 432x288 with 1 Axes>"
            ],
            "image/png": "[encoded data removed]"
          },
          "metadata": {
            "needs_background": "light"
          }
        }
      ]
    },
    {
      "cell_type": "code",
      "source": [
        "df1.info()"
      ],
      "metadata": {
        "colab": {
          "base_uri": "https://localhost:8080/"
        },
        "id": "85JtyHfYOOVr",
        "outputId": "2f4e365a-3a71-43a1-9e63-7ca598bb8050"
      },
      "execution_count": 8,
      "outputs": [
        {
          "output_type": "stream",
          "name": "stdout",
          "text": [
            "<class 'pandas.core.frame.DataFrame'>\n",
            "RangeIndex: 2501 entries, 0 to 2500\n",
            "Data columns (total 32 columns):\n",
            " #   Column                  Non-Null Count  Dtype         \n",
            "---  ------                  --------------  -----         \n",
            " 0   report_date             2501 non-null   datetime64[ns]\n",
            " 1   online_store            2501 non-null   object        \n",
            " 2   upc                     2501 non-null   int64         \n",
            " 3   retailer_product_code   2501 non-null   object        \n",
            " 4   brand                   2501 non-null   object        \n",
            " 5   category                2501 non-null   object        \n",
            " 6   sub_category            2501 non-null   object        \n",
            " 7   product_description     2501 non-null   object        \n",
            " 8   review_date             2501 non-null   datetime64[ns]\n",
            " 9   review_rating           2501 non-null   int64         \n",
            " 10  review_title            2403 non-null   object        \n",
            " 11  review_text             2501 non-null   object        \n",
            " 12  is_competitor           2501 non-null   int64         \n",
            " 13  manufacturer            2501 non-null   object        \n",
            " 14  market                  2501 non-null   object        \n",
            " 15  matched_keywords        0 non-null      float64       \n",
            " 16  time_of_publication     0 non-null      float64       \n",
            " 17  url                     1654 non-null   object        \n",
            " 18  review_type             2501 non-null   object        \n",
            " 19  parent_review           2501 non-null   object        \n",
            " 20  manufacturers_response  0 non-null      float64       \n",
            " 21  dimension1              2501 non-null   object        \n",
            " 22  dimension2              2501 non-null   object        \n",
            " 23  dimension3              2310 non-null   object        \n",
            " 24  dimension4              0 non-null      float64       \n",
            " 25  dimension5              0 non-null      float64       \n",
            " 26  dimension6              0 non-null      float64       \n",
            " 27  dimension7              2499 non-null   object        \n",
            " 28  dimension8              2501 non-null   object        \n",
            " 29  verified_purchase       2501 non-null   bool          \n",
            " 30  helpful_review_count    2501 non-null   int64         \n",
            " 31  review_hash_id          2501 non-null   object        \n",
            "dtypes: bool(1), datetime64[ns](2), float64(6), int64(4), object(19)\n",
            "memory usage: 608.3+ KB\n"
          ]
        }
      ]
    },
    {
      "cell_type": "code",
      "source": [
        "print(df1['review_rating'].value_counts())\n",
        "df1['review_rating'].value_counts().plot.bar(color='green')"
      ],
      "metadata": {
        "colab": {
          "base_uri": "https://localhost:8080/",
          "height": 383
        },
        "id": "agmk7aY-ObkP",
        "outputId": "4909465c-8333-40a0-f608-cef4937c399d"
      },
      "execution_count": 9,
      "outputs": [
        {
          "output_type": "stream",
          "name": "stdout",
          "text": [
            "5    1848\n",
            "4     319\n",
            "1     146\n",
            "3     107\n",
            "2      81\n",
            "Name: review_rating, dtype: int64\n"
          ]
        },
        {
          "output_type": "execute_result",
          "data": {
            "text/plain": [
              "<matplotlib.axes._subplots.AxesSubplot at 0x7efc8be2b8e0>"
            ]
          },
          "metadata": {},
          "execution_count": 9
        },
        {
          "output_type": "display_data",
          "data": {
            "text/plain": [
              "<Figure size 432x288 with 1 Axes>"
            ],
            "image/png": "[encoded data removed]"
          },
          "metadata": {
            "needs_background": "light"
          }
        }
      ]
    },
    {
      "cell_type": "code",
      "source": [
        "sns.distplot(df1['review_rating'])"
      ],
      "metadata": {
        "colab": {
          "base_uri": "https://localhost:8080/",
          "height": 352
        },
        "id": "pg8pNkYPOqb-",
        "outputId": "40a2eb30-b1e2-452b-b1a2-f91d82f543df"
      },
      "execution_count": 10,
      "outputs": [
        {
          "output_type": "stream",
          "name": "stderr",
          "text": [
            "/usr/local/lib/python3.8/dist-packages/seaborn/distributions.py:2619: FutureWarning: `distplot` is a deprecated function and will be removed in a future version. Please adapt your code to use either `displot` (a figure-level function with similar flexibility) or `histplot` (an axes-level function for histograms).\n",
            "  warnings.warn(msg, FutureWarning)\n"
          ]
        },
        {
          "output_type": "execute_result",
          "data": {
            "text/plain": [
              "<matplotlib.axes._subplots.AxesSubplot at 0x7efc8be10e20>"
            ]
          },
          "metadata": {},
          "execution_count": 10
        },
        {
          "output_type": "display_data",
          "data": {
            "text/plain": [
              "<Figure size 432x288 with 1 Axes>"
            ],
            "image/png": "[encoded data removed]"
          },
          "metadata": {
            "needs_background": "light"
          }
        }
      ]
    },
    {
      "cell_type": "code",
      "source": [
        "# In this step will get a plot of review_rating across different products \n",
        "mapping = {1: 'Poor', 2: 'Not bad', 3: 'Descent', 4: 'Good', 5: 'Excellent'}\n",
        "\n",
        "df1['review_rating_label'] = df1['review_rating'].map(mapping)\n",
        "\n",
        "sns.countplot(x='review_rating_label', hue='category', data= df1)"
      ],
      "metadata": {
        "colab": {
          "base_uri": "https://localhost:8080/",
          "height": 297
        },
        "id": "ijnSlyhARjKC",
        "outputId": "7828d402-c473-43a4-8230-64cf7c204c36"
      },
      "execution_count": 31,
      "outputs": [
        {
          "output_type": "execute_result",
          "data": {
            "text/plain": [
              "<matplotlib.axes._subplots.AxesSubplot at 0x7efc84abd6d0>"
            ]
          },
          "metadata": {},
          "execution_count": 31
        },
        {
          "output_type": "display_data",
          "data": {
            "text/plain": [
              "<Figure size 432x288 with 1 Axes>"
            ],
            "image/png": "[encoded data removed]"
          },
          "metadata": {
            "needs_background": "light"
          }
        }
      ]
    },
    {
      "cell_type": "code",
      "source": [
        "df1['sentiments'] = df1['review_rating'].apply(lambda x: 0 if x == [1, 2] else 1)\n",
        "df1.head()"
      ],
      "metadata": {
        "colab": {
          "base_uri": "https://localhost:8080/",
          "height": 490
        },
        "id": "vBPOyc0MOxv2",
        "outputId": "e02b822b-2c58-469c-8acd-fbf069a8990e"
      },
      "execution_count": 11,
      "outputs": [
        {
          "output_type": "execute_result",
          "data": {
            "text/plain": [
              "  report_date online_store            upc retailer_product_code  \\\n",
              "0  2019-01-02  FRESHAMAZON  8718114216478            B0142CI6FC   \n",
              "1  2019-01-03  FRESHAMAZON  5000184201199            B014DFNNRY   \n",
              "2  2019-01-03  FRESHAMAZON  5000184201199            B014DFNNRY   \n",
              "3  2019-01-03  FRESHAMAZON  8712566479726            B014DFKELC   \n",
              "4  2019-01-03  FRESHAMAZON  8717163536476            B014G37I7E   \n",
              "\n",
              "           brand       category sub_category  \\\n",
              "0  Dove Men+Care  Personal Care         Deos   \n",
              "1        Marmite          Foods      Savoury   \n",
              "2        Marmite          Foods      Savoury   \n",
              "3          Knorr          Foods      Savoury   \n",
              "4            Cif       Homecare          HHC   \n",
              "\n",
              "                                 product_description review_date  \\\n",
              "0  Dove Men+Care Extra Fresh Anti-perspirant Deod...  2019-01-01   \n",
              "1                 Marmite  Spread Yeast Extract 500g  2019-01-02   \n",
              "2                 Marmite  Spread Yeast Extract 500g  2019-01-02   \n",
              "3                      Knorr  Beef Stock Pot 8 x 28g  2019-01-02   \n",
              "4                   Cif Citrus Bathroom Mousse 500ml  2019-01-02   \n",
              "\n",
              "   review_rating  ...                           dimension3 dimension4  \\\n",
              "0              5  ...  COTC Male Anti-Perspirant Deodorant        NaN   \n",
              "1              5  ...                   COTC Yeast Extract        NaN   \n",
              "2              4  ...                   COTC Yeast Extract        NaN   \n",
              "3              5  ...                           Stock Pots        NaN   \n",
              "4              5  ...                      Bathroom Mousse        NaN   \n",
              "\n",
              "   dimension5 dimension6                           dimension7  \\\n",
              "0         NaN        NaN  COTC Male Anti-Perspirant Deodorant   \n",
              "1         NaN        NaN                   COTC Yeast Extract   \n",
              "2         NaN        NaN                   COTC Yeast Extract   \n",
              "3         NaN        NaN                           Stock Pots   \n",
              "4         NaN        NaN                                  NaN   \n",
              "\n",
              "         dimension8  verified_purchase helpful_review_count  \\\n",
              "0  Core of the Core               True                    0   \n",
              "1  Core of the Core               True                    0   \n",
              "2  Core of the Core               True                    0   \n",
              "3  Core of the Core               True                    0   \n",
              "4  Core of the Core              False                    0   \n",
              "\n",
              "                         review_hash_id sentiments  \n",
              "0  3f129b02-ea76-0323-bd59-235d97a4f83f          1  \n",
              "1  d7f3b9aa-e8b3-626d-683b-374e201c8315          1  \n",
              "2  e58a523d-0155-a366-f107-7ac6817ac3b7          1  \n",
              "3  aaa9bb87-4f99-bb89-65cb-3b400ebb45c0          1  \n",
              "4  48c71b34-d7fe-5e90-51dd-239e153fb0ae          1  \n",
              "\n",
              "[5 rows x 33 columns]"
            ],
            "text/html": [
              "\n",
              "  <div id=\"df-e652b115-2dbf-4001-8861-363449251dbc\">\n",
              "    <div class=\"colab-df-container\">\n",
              "      <div>\n",
              "<style scoped>\n",
              "    .dataframe tbody tr th:only-of-type {\n",
              "        vertical-align: middle;\n",
              "    }\n",
              "\n",
              "    .dataframe tbody tr th {\n",
              "        vertical-align: top;\n",
              "    }\n",
              "\n",
              "    .dataframe thead th {\n",
              "        text-align: right;\n",
              "    }\n",
              "</style>\n",
              "<table border=\"1\" class=\"dataframe\">\n",
              "  <thead>\n",
              "    <tr style=\"text-align: right;\">\n",
              "      <th></th>\n",
              "      <th>report_date</th>\n",
              "      <th>online_store</th>\n",
              "      <th>upc</th>\n",
              "      <th>retailer_product_code</th>\n",
              "      <th>brand</th>\n",
              "      <th>category</th>\n",
              "      <th>sub_category</th>\n",
              "      <th>product_description</th>\n",
              "      <th>review_date</th>\n",
              "      <th>review_rating</th>\n",
              "      <th>...</th>\n",
              "      <th>dimension3</th>\n",
              "      <th>dimension4</th>\n",
              "      <th>dimension5</th>\n",
              "      <th>dimension6</th>\n",
              "      <th>dimension7</th>\n",
              "      <th>dimension8</th>\n",
              "      <th>verified_purchase</th>\n",
              "      <th>helpful_review_count</th>\n",
              "      <th>review_hash_id</th>\n",
              "      <th>sentiments</th>\n",
              "    </tr>\n",
              "  </thead>\n",
              "  <tbody>\n",
              "    <tr>\n",
              "      <th>0</th>\n",
              "      <td>2019-01-02</td>\n",
              "      <td>FRESHAMAZON</td>\n",
              "      <td>8718114216478</td>\n",
              "      <td>B0142CI6FC</td>\n",
              "      <td>Dove Men+Care</td>\n",
              "      <td>Personal Care</td>\n",
              "      <td>Deos</td>\n",
              "      <td>Dove Men+Care Extra Fresh Anti-perspirant Deod...</td>\n",
              "      <td>2019-01-01</td>\n",
              "      <td>5</td>\n",
              "      <td>...</td>\n",
              "      <td>COTC Male Anti-Perspirant Deodorant</td>\n",
              "      <td>NaN</td>\n",
              "      <td>NaN</td>\n",
              "      <td>NaN</td>\n",
              "      <td>COTC Male Anti-Perspirant Deodorant</td>\n",
              "      <td>Core of the Core</td>\n",
              "      <td>True</td>\n",
              "      <td>0</td>\n",
              "      <td>3f129b02-ea76-0323-bd59-235d97a4f83f</td>\n",
              "      <td>1</td>\n",
              "    </tr>\n",
              "    <tr>\n",
              "      <th>1</th>\n",
              "      <td>2019-01-03</td>\n",
              "      <td>FRESHAMAZON</td>\n",
              "      <td>5000184201199</td>\n",
              "      <td>B014DFNNRY</td>\n",
              "      <td>Marmite</td>\n",
              "      <td>Foods</td>\n",
              "      <td>Savoury</td>\n",
              "      <td>Marmite  Spread Yeast Extract 500g</td>\n",
              "      <td>2019-01-02</td>\n",
              "      <td>5</td>\n",
              "      <td>...</td>\n",
              "      <td>COTC Yeast Extract</td>\n",
              "      <td>NaN</td>\n",
              "      <td>NaN</td>\n",
              "      <td>NaN</td>\n",
              "      <td>COTC Yeast Extract</td>\n",
              "      <td>Core of the Core</td>\n",
              "      <td>True</td>\n",
              "      <td>0</td>\n",
              "      <td>d7f3b9aa-e8b3-626d-683b-374e201c8315</td>\n",
              "      <td>1</td>\n",
              "    </tr>\n",
              "    <tr>\n",
              "      <th>2</th>\n",
              "      <td>2019-01-03</td>\n",
              "      <td>FRESHAMAZON</td>\n",
              "      <td>5000184201199</td>\n",
              "      <td>B014DFNNRY</td>\n",
              "      <td>Marmite</td>\n",
              "      <td>Foods</td>\n",
              "      <td>Savoury</td>\n",
              "      <td>Marmite  Spread Yeast Extract 500g</td>\n",
              "      <td>2019-01-02</td>\n",
              "      <td>4</td>\n",
              "      <td>...</td>\n",
              "      <td>COTC Yeast Extract</td>\n",
              "      <td>NaN</td>\n",
              "      <td>NaN</td>\n",
              "      <td>NaN</td>\n",
              "      <td>COTC Yeast Extract</td>\n",
              "      <td>Core of the Core</td>\n",
              "      <td>True</td>\n",
              "      <td>0</td>\n",
              "      <td>e58a523d-0155-a366-f107-7ac6817ac3b7</td>\n",
              "      <td>1</td>\n",
              "    </tr>\n",
              "    <tr>\n",
              "      <th>3</th>\n",
              "      <td>2019-01-03</td>\n",
              "      <td>FRESHAMAZON</td>\n",
              "      <td>8712566479726</td>\n",
              "      <td>B014DFKELC</td>\n",
              "      <td>Knorr</td>\n",
              "      <td>Foods</td>\n",
              "      <td>Savoury</td>\n",
              "      <td>Knorr  Beef Stock Pot 8 x 28g</td>\n",
              "      <td>2019-01-02</td>\n",
              "      <td>5</td>\n",
              "      <td>...</td>\n",
              "      <td>Stock Pots</td>\n",
              "      <td>NaN</td>\n",
              "      <td>NaN</td>\n",
              "      <td>NaN</td>\n",
              "      <td>Stock Pots</td>\n",
              "      <td>Core of the Core</td>\n",
              "      <td>True</td>\n",
              "      <td>0</td>\n",
              "      <td>aaa9bb87-4f99-bb89-65cb-3b400ebb45c0</td>\n",
              "      <td>1</td>\n",
              "    </tr>\n",
              "    <tr>\n",
              "      <th>4</th>\n",
              "      <td>2019-01-03</td>\n",
              "      <td>FRESHAMAZON</td>\n",
              "      <td>8717163536476</td>\n",
              "      <td>B014G37I7E</td>\n",
              "      <td>Cif</td>\n",
              "      <td>Homecare</td>\n",
              "      <td>HHC</td>\n",
              "      <td>Cif Citrus Bathroom Mousse 500ml</td>\n",
              "      <td>2019-01-02</td>\n",
              "      <td>5</td>\n",
              "      <td>...</td>\n",
              "      <td>Bathroom Mousse</td>\n",
              "      <td>NaN</td>\n",
              "      <td>NaN</td>\n",
              "      <td>NaN</td>\n",
              "      <td>NaN</td>\n",
              "      <td>Core of the Core</td>\n",
              "      <td>False</td>\n",
              "      <td>0</td>\n",
              "      <td>48c71b34-d7fe-5e90-51dd-239e153fb0ae</td>\n",
              "      <td>1</td>\n",
              "    </tr>\n",
              "  </tbody>\n",
              "</table>\n",
              "<p>5 rows × 33 columns</p>\n",
              "</div>\n",
              "      <button class=\"colab-df-convert\" onclick=\"convertToInteractive('df-e652b115-2dbf-4001-8861-363449251dbc')\"\n",
              "              title=\"Convert this dataframe to an interactive table.\"\n",
              "              style=\"display:none;\">\n",
              "        \n",
              "  <svg xmlns=\"http://www.w3.org/2000/svg\" height=\"24px\"viewBox=\"0 0 24 24\"\n",
              "       width=\"24px\">\n",
              "    <path d=\"M0 0h24v24H0V0z\" fill=\"none\"/>\n",
              "    <path d=\"M18.56 5.44l.94 2.06.94-2.06 2.06-.94-2.06-.94-.94-2.06-.94 2.06-2.06.94zm-11 1L8.5 8.5l.94-2.06 2.06-.94-2.06-.94L8.5 2.5l-.94 2.06-2.06.94zm10 10l.94 2.06.94-2.06 2.06-.94-2.06-.94-.94-2.06-.94 2.06-2.06.94z\"/><path d=\"M17.41 7.96l-1.37-1.37c-.4-.4-.92-.59-1.43-.59-.52 0-1.04.2-1.43.59L10.3 9.45l-7.72 7.72c-.78.78-.78 2.05 0 2.83L4 21.41c.39.39.9.59 1.41.59.51 0 1.02-.2 1.41-.59l7.78-7.78 2.81-2.81c.8-.78.8-2.07 0-2.86zM5.41 20L4 18.59l7.72-7.72 1.47 1.35L5.41 20z\"/>\n",
              "  </svg>\n",
              "      </button>\n",
              "      \n",
              "  <style>\n",
              "    .colab-df-container {\n",
              "      display:flex;\n",
              "      flex-wrap:wrap;\n",
              "      gap: 12px;\n",
              "    }\n",
              "\n",
              "    .colab-df-convert {\n",
              "      background-color: #E8F0FE;\n",
              "      border: none;\n",
              "      border-radius: 50%;\n",
              "      cursor: pointer;\n",
              "      display: none;\n",
              "      fill: #1967D2;\n",
              "      height: 32px;\n",
              "      padding: 0 0 0 0;\n",
              "      width: 32px;\n",
              "    }\n",
              "\n",
              "    .colab-df-convert:hover {\n",
              "      background-color: #E2EBFA;\n",
              "      box-shadow: 0px 1px 2px rgba(60, 64, 67, 0.3), 0px 1px 3px 1px rgba(60, 64, 67, 0.15);\n",
              "      fill: #174EA6;\n",
              "    }\n",
              "\n",
              "    [theme=dark] .colab-df-convert {\n",
              "      background-color: #3B4455;\n",
              "      fill: #D2E3FC;\n",
              "    }\n",
              "\n",
              "    [theme=dark] .colab-df-convert:hover {\n",
              "      background-color: #434B5C;\n",
              "      box-shadow: 0px 1px 3px 1px rgba(0, 0, 0, 0.15);\n",
              "      filter: drop-shadow(0px 1px 2px rgba(0, 0, 0, 0.3));\n",
              "      fill: #FFFFFF;\n",
              "    }\n",
              "  </style>\n",
              "\n",
              "      <script>\n",
              "        const buttonEl =\n",
              "          document.querySelector('#df-e652b115-2dbf-4001-8861-363449251dbc button.colab-df-convert');\n",
              "        buttonEl.style.display =\n",
              "          google.colab.kernel.accessAllowed ? 'block' : 'none';\n",
              "\n",
              "        async function convertToInteractive(key) {\n",
              "          const element = document.querySelector('#df-e652b115-2dbf-4001-8861-363449251dbc');\n",
              "          const dataTable =\n",
              "            await google.colab.kernel.invokeFunction('convertToInteractive',\n",
              "                                                     [key], {});\n",
              "          if (!dataTable) return;\n",
              "\n",
              "          const docLinkHtml = 'Like what you see? Visit the ' +\n",
              "            '<a target=\"_blank\" href=https://colab.research.google.com/notebooks/data_table.ipynb>data table notebook</a>'\n",
              "            + ' to learn more about interactive tables.';\n",
              "          element.innerHTML = '';\n",
              "          dataTable['output_type'] = 'display_data';\n",
              "          await google.colab.output.renderOutput(dataTable, element);\n",
              "          const docLink = document.createElement('div');\n",
              "          docLink.innerHTML = docLinkHtml;\n",
              "          element.appendChild(docLink);\n",
              "        }\n",
              "      </script>\n",
              "    </div>\n",
              "  </div>\n",
              "  "
            ]
          },
          "metadata": {},
          "execution_count": 11
        }
      ]
    },
    {
      "cell_type": "code",
      "source": [
        "# Dependent Features\n",
        "y = df1['sentiments']\n",
        "\n",
        "# Independent Features\n",
        "X = df1.drop('sentiments', axis=1)"
      ],
      "metadata": {
        "id": "tAKoW-GQO-6a"
      },
      "execution_count": 12,
      "outputs": []
    },
    {
      "cell_type": "code",
      "source": [
        "messages = X.copy()\n",
        "messages = messages.reset_index() "
      ],
      "metadata": {
        "id": "5VGa6oLEPE5s"
      },
      "execution_count": 13,
      "outputs": []
    },
    {
      "cell_type": "markdown",
      "source": [
        "## STEMMING"
      ],
      "metadata": {
        "id": "5f87_2-dPG1a"
      }
    },
    {
      "cell_type": "code",
      "source": [
        "nltk.download('stopwords')"
      ],
      "metadata": {
        "colab": {
          "base_uri": "https://localhost:8080/"
        },
        "id": "tZ6ha0ZSPVII",
        "outputId": "628fe773-ea7e-4c9c-8a5c-f67f580b5374"
      },
      "execution_count": 15,
      "outputs": [
        {
          "output_type": "stream",
          "name": "stderr",
          "text": [
            "[nltk_data] Downloading package stopwords to /root/nltk_data...\n",
            "[nltk_data]   Unzipping corpora/stopwords.zip.\n"
          ]
        },
        {
          "output_type": "execute_result",
          "data": {
            "text/plain": [
              "True"
            ]
          },
          "metadata": {},
          "execution_count": 15
        }
      ]
    },
    {
      "cell_type": "code",
      "source": [
        "stopwords = set(stopwords.words('english'))"
      ],
      "metadata": {
        "id": "o547PNsKPIfs"
      },
      "execution_count": 16,
      "outputs": []
    },
    {
      "cell_type": "code",
      "source": [
        "ps = PorterStemmer()\n",
        "corpus = []\n",
        "for i in range(0, len(messages)):\n",
        "    review = re.sub('[^a-zA-Z]', ' ', messages['review_text'][i])\n",
        "    review = review.lower()\n",
        "    review = review.split()\n",
        "    \n",
        "    review = [ps.stem(word) for word in review if not word in stopwords]\n",
        "    review = ' '.join(review)\n",
        "    corpus.append(review)"
      ],
      "metadata": {
        "id": "02XgUS1xPMMx"
      },
      "execution_count": 17,
      "outputs": []
    },
    {
      "cell_type": "markdown",
      "source": [
        "## TOKENIZATION"
      ],
      "metadata": {
        "id": "U8NLjMRDPcsz"
      }
    },
    {
      "cell_type": "code",
      "source": [
        "voc_size = 15000\n",
        "max_length = 120\n",
        "embedding_dim = 16"
      ],
      "metadata": {
        "id": "ySpGz38YPgG6"
      },
      "execution_count": 18,
      "outputs": []
    },
    {
      "cell_type": "code",
      "source": [
        "from tensorflow.keras.preprocessing.text import Tokenizer\n",
        "tokenizer = Tokenizer(num_words=voc_size, oov_token='<OOV>')\n",
        "tokenizer.fit_on_texts(corpus)"
      ],
      "metadata": {
        "id": "tv-sMV9qPigD"
      },
      "execution_count": 19,
      "outputs": []
    },
    {
      "cell_type": "code",
      "source": [
        "sequences = tokenizer.texts_to_sequences(corpus)\n",
        "\n",
        "embedded_docs = pad_sequences(sequences, maxlen=max_length, padding='post', truncating= 'post')"
      ],
      "metadata": {
        "id": "jhrSqcEOPlL_"
      },
      "execution_count": 20,
      "outputs": []
    },
    {
      "cell_type": "code",
      "source": [
        "X_final = np.array(embedded_docs)\n",
        "y_final = np.array(y)"
      ],
      "metadata": {
        "id": "2HH7euu2Ppw8"
      },
      "execution_count": 21,
      "outputs": []
    },
    {
      "cell_type": "code",
      "source": [
        "X_final.shape, y_final.shape"
      ],
      "metadata": {
        "colab": {
          "base_uri": "https://localhost:8080/"
        },
        "id": "LL9lqp6qPs_G",
        "outputId": "bc474c43-be34-4f02-8682-60caa28bf130"
      },
      "execution_count": 22,
      "outputs": [
        {
          "output_type": "execute_result",
          "data": {
            "text/plain": [
              "((2501, 120), (2501,))"
            ]
          },
          "metadata": {},
          "execution_count": 22
        }
      ]
    },
    {
      "cell_type": "markdown",
      "source": [
        "## MODEL BUILDING"
      ],
      "metadata": {
        "id": "kbOouQBjPwlP"
      }
    },
    {
      "cell_type": "code",
      "source": [
        "model = Sequential()\n",
        "model.add(Embedding(voc_size, embedding_dim, input_length=max_length))\n",
        "model.add(LSTM(100))\n",
        "model.add(Dense(64, activation= 'relu'))\n",
        "model.add(Dense(32, activation = 'relu'))\n",
        "model.add(Dense(1, activation = 'sigmoid'))\n",
        "model.compile(loss = 'binary_crossentropy', optimizer = 'adam', metrics = ['accuracy'])\n",
        "print(model.summary())"
      ],
      "metadata": {
        "colab": {
          "base_uri": "https://localhost:8080/"
        },
        "id": "jxgh5ga1Pu0q",
        "outputId": "11a22f77-eb21-4151-a047-c33c9a509c42"
      },
      "execution_count": 23,
      "outputs": [
        {
          "output_type": "stream",
          "name": "stdout",
          "text": [
            "Model: \"sequential\"\n",
            "_________________________________________________________________\n",
            " Layer (type)                Output Shape              Param #   \n",
            "=================================================================\n",
            " embedding (Embedding)       (None, 120, 16)           240000    \n",
            "                                                                 \n",
            " lstm (LSTM)                 (None, 100)               46800     \n",
            "                                                                 \n",
            " dense (Dense)               (None, 64)                6464      \n",
            "                                                                 \n",
            " dense_1 (Dense)             (None, 32)                2080      \n",
            "                                                                 \n",
            " dense_2 (Dense)             (None, 1)                 33        \n",
            "                                                                 \n",
            "=================================================================\n",
            "Total params: 295,377\n",
            "Trainable params: 295,377\n",
            "Non-trainable params: 0\n",
            "_________________________________________________________________\n",
            "None\n"
          ]
        }
      ]
    },
    {
      "cell_type": "markdown",
      "source": [
        "### Splitting the data into Train and Test"
      ],
      "metadata": {
        "id": "LT2JyM4BP4CJ"
      }
    },
    {
      "cell_type": "code",
      "source": [
        "from sklearn.model_selection import train_test_split\n",
        "X_train, X_test, y_train, y_test = train_test_split(X_final, y_final, test_size=0.33, random_state=42)"
      ],
      "metadata": {
        "id": "MT9dxt9hP0oi"
      },
      "execution_count": 24,
      "outputs": []
    },
    {
      "cell_type": "markdown",
      "source": [
        "## Model Training"
      ],
      "metadata": {
        "id": "GEi1vkpPP_fv"
      }
    },
    {
      "cell_type": "code",
      "source": [
        "model.fit(X_train, y_train, validation_data=(X_test, y_test), epochs=10, batch_size=32)"
      ],
      "metadata": {
        "colab": {
          "base_uri": "https://localhost:8080/"
        },
        "id": "z7oA7c8qP9rb",
        "outputId": "998a3962-0575-4036-c425-d2f4be08e1e4"
      },
      "execution_count": 25,
      "outputs": [
        {
          "output_type": "stream",
          "name": "stdout",
          "text": [
            "Epoch 1/10\n",
            "53/53 [==============================] - 9s 119ms/step - loss: 0.1205 - accuracy: 0.9809 - val_loss: 3.3600e-06 - val_accuracy: 1.0000\n",
            "Epoch 2/10\n",
            "53/53 [==============================] - 6s 110ms/step - loss: 2.8032e-06 - accuracy: 1.0000 - val_loss: 2.6244e-06 - val_accuracy: 1.0000\n",
            "Epoch 3/10\n",
            "53/53 [==============================] - 6s 109ms/step - loss: 2.5584e-06 - accuracy: 1.0000 - val_loss: 2.4871e-06 - val_accuracy: 1.0000\n",
            "Epoch 4/10\n",
            "53/53 [==============================] - 6s 108ms/step - loss: 2.4171e-06 - accuracy: 1.0000 - val_loss: 2.3410e-06 - val_accuracy: 1.0000\n",
            "Epoch 5/10\n",
            "53/53 [==============================] - 8s 144ms/step - loss: 2.2682e-06 - accuracy: 1.0000 - val_loss: 2.1903e-06 - val_accuracy: 1.0000\n",
            "Epoch 6/10\n",
            "53/53 [==============================] - 7s 126ms/step - loss: 2.1172e-06 - accuracy: 1.0000 - val_loss: 2.0397e-06 - val_accuracy: 1.0000\n",
            "Epoch 7/10\n",
            "53/53 [==============================] - 6s 119ms/step - loss: 1.9680e-06 - accuracy: 1.0000 - val_loss: 1.8924e-06 - val_accuracy: 1.0000\n",
            "Epoch 8/10\n",
            "53/53 [==============================] - 7s 132ms/step - loss: 1.8230e-06 - accuracy: 1.0000 - val_loss: 1.7501e-06 - val_accuracy: 1.0000\n",
            "Epoch 9/10\n",
            "53/53 [==============================] - 6s 108ms/step - loss: 1.6837e-06 - accuracy: 1.0000 - val_loss: 1.6140e-06 - val_accuracy: 1.0000\n",
            "Epoch 10/10\n",
            "53/53 [==============================] - 6s 108ms/step - loss: 1.5507e-06 - accuracy: 1.0000 - val_loss: 1.4844e-06 - val_accuracy: 1.0000\n"
          ]
        },
        {
          "output_type": "execute_result",
          "data": {
            "text/plain": [
              "<keras.callbacks.History at 0x7efc8d0cd3d0>"
            ]
          },
          "metadata": {},
          "execution_count": 25
        }
      ]
    },
    {
      "cell_type": "markdown",
      "source": [
        "## Performance Matrics and Accuracy"
      ],
      "metadata": {
        "id": "UlT9lWkLQZpJ"
      }
    },
    {
      "cell_type": "code",
      "source": [
        "y_predict = ((model.predict(X_test)>0.5).astype('int32'))"
      ],
      "metadata": {
        "colab": {
          "base_uri": "https://localhost:8080/"
        },
        "id": "N3svkemaQDO_",
        "outputId": "81e09bf4-96a9-4e97-c9d3-c7c976ad04dd"
      },
      "execution_count": 26,
      "outputs": [
        {
          "output_type": "stream",
          "name": "stdout",
          "text": [
            "26/26 [==============================] - 2s 32ms/step\n"
          ]
        }
      ]
    },
    {
      "cell_type": "code",
      "source": [
        "#confusion Matrix\n",
        "from sklearn.metrics import confusion_matrix\n",
        "confusion_matrix(y_test, y_predict)"
      ],
      "metadata": {
        "colab": {
          "base_uri": "https://localhost:8080/"
        },
        "id": "aSzfUxmdQgA3",
        "outputId": "8492f9c1-5629-42b9-f35e-74ee6dcaaac2"
      },
      "execution_count": 27,
      "outputs": [
        {
          "output_type": "execute_result",
          "data": {
            "text/plain": [
              "array([[826]])"
            ]
          },
          "metadata": {},
          "execution_count": 27
        }
      ]
    },
    {
      "cell_type": "code",
      "source": [
        "from sklearn.metrics import accuracy_score\n",
        "accuracy_score(y_test, y_predict)"
      ],
      "metadata": {
        "colab": {
          "base_uri": "https://localhost:8080/"
        },
        "id": "NC0t_-0JQjT7",
        "outputId": "27de79fa-f9ce-4c6e-e3c8-6f08d943a28c"
      },
      "execution_count": 28,
      "outputs": [
        {
          "output_type": "execute_result",
          "data": {
            "text/plain": [
              "1.0"
            ]
          },
          "metadata": {},
          "execution_count": 28
        }
      ]
    },
    {
      "cell_type": "code",
      "source": [
        "from sklearn.metrics import accuracy_score, precision_score, recall_score\n",
        "\n",
        "print(\"Accuracy : \", accuracy_score(y_predict, y_test))\n",
        "print(\"Precision : \", precision_score(y_predict, y_test, average = 'weighted'))\n",
        "print(\"Recall : \", recall_score(y_predict, y_test, average = 'weighted'))"
      ],
      "metadata": {
        "colab": {
          "base_uri": "https://localhost:8080/"
        },
        "id": "NBgPw6NERKSj",
        "outputId": "6a021b9a-f93a-4493-c649-92ca5fdcf24e"
      },
      "execution_count": 30,
      "outputs": [
        {
          "output_type": "stream",
          "name": "stdout",
          "text": [
            "Accuracy :  1.0\n",
            "Precision :  1.0\n",
            "Recall :  1.0\n"
          ]
        }
      ]
    }
  ]
}