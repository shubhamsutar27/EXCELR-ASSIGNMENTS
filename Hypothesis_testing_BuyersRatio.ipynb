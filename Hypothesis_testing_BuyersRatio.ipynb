{
  "nbformat": 4,
  "nbformat_minor": 0,
  "metadata": {
    "colab": {
      "provenance": []
    },
    "kernelspec": {
      "name": "python3",
      "display_name": "Python 3"
    },
    "language_info": {
      "name": "python"
    }
  },
  "cells": [
    {
      "cell_type": "markdown",
      "source": [
        "## 2 PROPORTION t-TEST"
      ],
      "metadata": {
        "id": "U6msxvtaR-JQ"
      }
    },
    {
      "cell_type": "code",
      "execution_count": 1,
      "metadata": {
        "id": "O19aKlaFlHV8"
      },
      "outputs": [],
      "source": [
        "import pandas as pd\n",
        "import numpy as np\n",
        "import scipy"
      ]
    },
    {
      "cell_type": "code",
      "source": [
        "Males = [50,142,131,70]\n",
        "Females = [550,351,480,350]"
      ],
      "metadata": {
        "id": "pB7QaCEZlIEn"
      },
      "execution_count": 2,
      "outputs": []
    },
    {
      "cell_type": "code",
      "source": [
        "import statsmodels.api as sm\n",
        "p=sm.stats.ttest_ind(Males,Females)[1]"
      ],
      "metadata": {
        "id": "AYsFHKHZlbCr"
      },
      "execution_count": 3,
      "outputs": []
    },
    {
      "cell_type": "code",
      "source": [
        "p_value=p"
      ],
      "metadata": {
        "id": "j1x9bQxJl1t7"
      },
      "execution_count": 4,
      "outputs": []
    },
    {
      "cell_type": "code",
      "source": [
        "p_value"
      ],
      "metadata": {
        "colab": {
          "base_uri": "https://localhost:8080/"
        },
        "id": "Q67j3PMpl4MI",
        "outputId": "315eb736-71b4-437d-ad76-5202645aaecd"
      },
      "execution_count": 5,
      "outputs": [
        {
          "output_type": "execute_result",
          "data": {
            "text/plain": [
              "0.0008548166684701879"
            ]
          },
          "metadata": {},
          "execution_count": 5
        }
      ]
    },
    {
      "cell_type": "code",
      "source": [
        "if p_value<0.05:\n",
        " print(\"We are rejecting null hypothesis\")\n",
        "else:\n",
        "  print(\"We are accepting null hypothesis\")"
      ],
      "metadata": {
        "colab": {
          "base_uri": "https://localhost:8080/"
        },
        "id": "tuEET1HtmBLx",
        "outputId": "b8f387da-2951-4bc2-b741-48845d324e4e"
      },
      "execution_count": 6,
      "outputs": [
        {
          "output_type": "stream",
          "name": "stdout",
          "text": [
            "We are rejecting null hypothesis\n"
          ]
        }
      ]
    },
    {
      "cell_type": "markdown",
      "source": [
        "## Since we are rejecting null hypothesis, All proportions are not equal."
      ],
      "metadata": {
        "id": "syLRnSzqmKhC"
      }
    }
  ]
}